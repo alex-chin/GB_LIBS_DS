{
 "cells": [
  {
   "cell_type": "markdown",
   "metadata": {
    "collapsed": true,
    "pycharm": {
     "name": "#%% md\n"
    }
   },
   "source": [
    "## Тема “Обучение без учителя”\n",
    "\n",
    "### Задание 2\n",
    "С помощью KMeans разбейте данные из тренировочного набора на 3 кластера,\n",
    "используйте все признаки из датафрейма X_train.\n",
    "Параметр max_iter должен быть равен 100, random staterandom_state сделайте равным 42.\n",
    "Постройте еще раз диаграмму рассеяния на данных, полученных с помощью TSNE,\n",
    "и раскрасьте точки из разных кластеров разными цветами.\n",
    "Вычислите средние значения price и CRIM в разных кластерах.\n"
   ]
  },
  {
   "cell_type": "markdown",
   "metadata": {},
   "source": [
    ">С помощью KMeans разбейте данные из тренировочного набора на 3 кластера, используйте все признаки из датафрейма X_train. Параметр max_iter должен быть равен 100, random staterandom_state сделайте равным 42."
   ]
  },
  {
   "cell_type": "code",
   "execution_count": 73,
   "metadata": {},
   "outputs": [],
   "source": [
    "import pandas as pd\n",
    "import numpy as np\n",
    "import matplotlib.pyplot as plt\n",
    "%matplotlib inline"
   ]
  },
  {
   "cell_type": "code",
   "execution_count": 74,
   "metadata": {},
   "outputs": [],
   "source": [
    "X_train = pd.read_pickle('boston_X_train.pkl')\n",
    "X_train_scaled=pd.read_pickle('boston_X_train_scaled.pkl')\n",
    "X_train_tsne=pd.read_pickle('boston_X_train_tsne.pkl')\n",
    "y_train = pd.read_pickle('boston_y_train.pkl')"
   ]
  },
  {
   "cell_type": "code",
   "execution_count": 75,
   "metadata": {},
   "outputs": [],
   "source": [
    "from sklearn.cluster import KMeans\n",
    "kmeans = KMeans(n_clusters=3, max_iter=100, random_state=42)"
   ]
  },
  {
   "cell_type": "code",
   "execution_count": 76,
   "metadata": {},
   "outputs": [],
   "source": [
    "labels_train = kmeans.fit_predict(X_train_scaled)"
   ]
  },
  {
   "cell_type": "code",
   "execution_count": 77,
   "metadata": {},
   "outputs": [],
   "source": [
    "import pickle\n",
    "\n",
    "with open('kmeans_boston.pkl', 'wb') as fid:\n",
    "    pickle.dump(kmeans, fid) "
   ]
  },
  {
   "cell_type": "code",
   "execution_count": 78,
   "metadata": {},
   "outputs": [
    {
     "data": {
      "text/plain": [
       "(404,)"
      ]
     },
     "execution_count": 78,
     "metadata": {},
     "output_type": "execute_result"
    }
   ],
   "source": [
    "labels_train.shape"
   ]
  },
  {
   "cell_type": "code",
   "execution_count": 79,
   "metadata": {},
   "outputs": [
    {
     "data": {
      "text/plain": [
       "array([[-0.39886419,  1.55761113, -1.01661835, -0.09789972, -1.11157102,\n",
       "         0.4694394 , -1.31625943,  1.43008074, -0.59047541, -0.58513831,\n",
       "        -0.60269912,  0.35449756, -0.82802167],\n",
       "       [ 0.81090356, -0.50032012,  1.12900228,  0.08796453,  1.14538259,\n",
       "        -0.49660815,  0.77912417, -0.85778857,  1.2424768 ,  1.31237242,\n",
       "         0.60373924, -0.65731177,  0.90021762],\n",
       "       [-0.35959388, -0.36865917, -0.29295347, -0.014409  , -0.26109152,\n",
       "         0.1188348 ,  0.07460493, -0.07354866, -0.56028098, -0.60915918,\n",
       "        -0.1300668 ,  0.277444  , -0.22574751]])"
      ]
     },
     "execution_count": 79,
     "metadata": {},
     "output_type": "execute_result"
    }
   ],
   "source": [
    "kmeans.cluster_centers_"
   ]
  },
  {
   "cell_type": "code",
   "execution_count": 80,
   "metadata": {},
   "outputs": [
    {
     "data": {
      "text/plain": [
       "2    191\n",
       "1    127\n",
       "0     86\n",
       "dtype: int64"
      ]
     },
     "execution_count": 80,
     "metadata": {},
     "output_type": "execute_result"
    }
   ],
   "source": [
    "pd.value_counts(labels_train)"
   ]
  },
  {
   "cell_type": "markdown",
   "metadata": {},
   "source": [
    ">Постройте еще раз диаграмму рассеяния на данных, полученных с помощью TSNE, и раскрасьте точки из разных кластеров разными цветами."
   ]
  },
  {
   "cell_type": "code",
   "execution_count": 81,
   "metadata": {},
   "outputs": [
    {
     "data": {
      "image/png": "[encoded data removed]",
      "text/plain": [
       "<Figure size 432x288 with 1 Axes>"
      ]
     },
     "metadata": {
      "needs_background": "light"
     },
     "output_type": "display_data"
    }
   ],
   "source": [
    "plt.scatter(X_train_tsne[0][labels_train==0], X_train_tsne[1][labels_train==0], label='Кластер 0')\n",
    "plt.scatter(X_train_tsne[0][labels_train==1], X_train_tsne[1][labels_train==1], label='Кластер 1')\n",
    "plt.scatter(X_train_tsne[0][labels_train==2], X_train_tsne[1][labels_train==2], label='Кластер 2')\n",
    "plt.legend()\n",
    "plt.show()"
   ]
  },
  {
   "cell_type": "markdown",
   "metadata": {},
   "source": [
    ">Вычислите средние значения price и CRIM в разных кластерах."
   ]
  },
  {
   "cell_type": "code",
   "execution_count": 82,
   "metadata": {},
   "outputs": [
    {
     "name": "stdout",
     "output_type": "stream",
     "text": [
      "Средняя цена по всей выборки:  22.796534653465343\n",
      "Средняя цена Кластер 0 :  27.78837209302326\n",
      "Средняя цена Кластер 1 :  16.165354330708663\n",
      "Средняя цена Кластер 2 :  24.958115183246072\n"
     ]
    }
   ],
   "source": [
    "print('Средняя цена по всей выборки: ', y_train.Price.mean())\n",
    "print('Средняя цена Кластер 0 : ', y_train.Price[labels_train==0].mean())\n",
    "print('Средняя цена Кластер 1 : ', y_train.Price[labels_train==1].mean())\n",
    "print('Средняя цена Кластер 2 : ', y_train.Price[labels_train==2].mean())"
   ]
  },
  {
   "cell_type": "code",
   "execution_count": 83,
   "metadata": {},
   "outputs": [
    {
     "name": "stdout",
     "output_type": "stream",
     "text": [
      "Среднее значение CRIM Кластер 0 : 0.07356558139534884\n",
      "Среднее значение CRIM Кластер 1 : 10.797028425196851\n",
      "Среднее значение CRIM Кластер 2 : 0.4216602094240837\n"
     ]
    }
   ],
   "source": [
    "print('Среднее значение CRIM Кластер 0 :', X_train.loc[labels_train==0, 'CRIM'].mean())\n",
    "print('Среднее значение CRIM Кластер 1 :', X_train.loc[labels_train==1, 'CRIM'].mean())\n",
    "print('Среднее значение CRIM Кластер 2 :', X_train.loc[labels_train==2, 'CRIM'].mean())"
   ]
  },
  {
   "cell_type": "code",
   "execution_count": null,
   "metadata": {},
   "outputs": [],
   "source": []
  }
 ],
 "metadata": {
  "kernelspec": {
   "display_name": "Python 3",
   "language": "python",
   "name": "python3"
  },
  "language_info": {
   "codemirror_mode": {
    "name": "ipython",
    "version": 3
   },
   "file_extension": ".py",
   "mimetype": "text/x-python",
   "name": "python",
   "nbconvert_exporter": "python",
   "pygments_lexer": "ipython3",
   "version": "3.7.3"
  }
 },
 "nbformat": 4,
 "nbformat_minor": 1
}
