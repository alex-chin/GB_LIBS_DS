{
 "cells": [
  {
   "cell_type": "markdown",
   "metadata": {
    "collapsed": true,
    "pycharm": {
     "name": "#%% md\n"
    }
   },
   "source": [
    "## Тема “Обучение без учителя”\n",
    "### *Задание 3\n",
    "Примените модель KMeans, построенную в предыдущем задании,\n",
    "к данным из тестового набора.\n",
    "Вычислите средние значения price и CRIM в разных кластерах на тестовых данных.\n",
    "\n",
    "\n",
    "\n"
   ]
  },
  {
   "cell_type": "markdown",
   "metadata": {},
   "source": [
    ">Примените модель KMeans, построенную в предыдущем задании, к данным из тестового набора."
   ]
  },
  {
   "cell_type": "code",
   "execution_count": 27,
   "metadata": {},
   "outputs": [],
   "source": [
    "import pandas as pd\n",
    "import numpy as np\n",
    "import matplotlib.pyplot as plt\n",
    "%matplotlib inline"
   ]
  },
  {
   "cell_type": "code",
   "execution_count": 28,
   "metadata": {},
   "outputs": [],
   "source": [
    "# загрузка модели \n",
    "\n",
    "import pickle\n",
    "\n",
    "with open('kmeans_boston.pkl', 'rb') as fid:\n",
    "    kmeans = pickle.load(fid)"
   ]
  },
  {
   "cell_type": "code",
   "execution_count": 29,
   "metadata": {},
   "outputs": [],
   "source": [
    "X_test_scaled=pd.read_pickle('boston_X_test_scaled.pkl')\n",
    "X_test=pd.read_pickle('boston_X_test.pkl')\n",
    "y_test=pd.read_pickle('boston_y_test.pkl')"
   ]
  },
  {
   "cell_type": "code",
   "execution_count": 30,
   "metadata": {},
   "outputs": [],
   "source": [
    "labels_test = kmeans.predict(X_test_scaled)"
   ]
  },
  {
   "cell_type": "code",
   "execution_count": 31,
   "metadata": {},
   "outputs": [
    {
     "data": {
      "text/plain": [
       "2    51\n",
       "1    35\n",
       "0    16\n",
       "dtype: int64"
      ]
     },
     "execution_count": 31,
     "metadata": {},
     "output_type": "execute_result"
    }
   ],
   "source": [
    "pd.value_counts(labels_test)"
   ]
  },
  {
   "cell_type": "markdown",
   "metadata": {},
   "source": [
    ">Вычислите средние значения price и CRIM в разных кластерах на тестовых данных."
   ]
  },
  {
   "cell_type": "code",
   "execution_count": 32,
   "metadata": {},
   "outputs": [
    {
     "name": "stdout",
     "output_type": "stream",
     "text": [
      "Средняя цена по тестовой выборке:  21.488235294117644\n",
      "Средняя цена Кластер 0 :  31.35\n",
      "Средняя цена Кластер 1 :  16.43714285714286\n",
      "Средняя цена Кластер 2 :  21.860784313725492\n"
     ]
    }
   ],
   "source": [
    "print('Средняя цена по тестовой выборке: ', y_test.Price.mean())\n",
    "print('Средняя цена Кластер 0 : ', y_test.Price[labels_test==0].mean())\n",
    "print('Средняя цена Кластер 1 : ', y_test.Price[labels_test==1].mean())\n",
    "print('Средняя цена Кластер 2 : ', y_test.Price[labels_test==2].mean())"
   ]
  },
  {
   "cell_type": "code",
   "execution_count": 33,
   "metadata": {},
   "outputs": [
    {
     "name": "stdout",
     "output_type": "stream",
     "text": [
      "Среднее значение CRIM Кластер 0 : 0.06206\n",
      "Среднее значение CRIM Кластер 1 : 10.165531142857143\n",
      "Среднее значение CRIM Кластер 2 : 0.2660788235294118\n"
     ]
    }
   ],
   "source": [
    "print('Среднее значение CRIM Кластер 0 :', X_test.loc[labels_test==0, 'CRIM'].mean())\n",
    "print('Среднее значение CRIM Кластер 1 :', X_test.loc[labels_test==1, 'CRIM'].mean())\n",
    "print('Среднее значение CRIM Кластер 2 :', X_test.loc[labels_test==2, 'CRIM'].mean())"
   ]
  },
  {
   "cell_type": "code",
   "execution_count": null,
   "metadata": {},
   "outputs": [],
   "source": []
  }
 ],
 "metadata": {
  "kernelspec": {
   "display_name": "Python 3",
   "language": "python",
   "name": "python3"
  },
  "language_info": {
   "codemirror_mode": {
    "name": "ipython",
    "version": 3
   },
   "file_extension": ".py",
   "mimetype": "text/x-python",
   "name": "python",
   "nbconvert_exporter": "python",
   "pygments_lexer": "ipython3",
   "version": "3.7.3"
  }
 },
 "nbformat": 4,
 "nbformat_minor": 1
}
