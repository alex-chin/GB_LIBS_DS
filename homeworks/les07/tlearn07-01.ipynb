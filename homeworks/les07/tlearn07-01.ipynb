{
 "cells": [
  {
   "cell_type": "markdown",
   "metadata": {
    "collapsed": true,
    "pycharm": {
     "name": "#%% md\n"
    }
   },
   "source": [
    "## Тема “Обучение без учителя”\n",
    "### Задание 1\n",
    "Импортируйте библиотеки pandas, numpy и matplotlib.\n",
    "Загрузите \"Boston House Prices dataset\" из встроенных наборов\n",
    "данных библиотеки sklearn.\n",
    "Создайте датафреймы X и y из этих данных.\n",
    "Разбейте эти датафреймы на тренировочные (X_train, y_train) и тестовые (X_test, y_test)\n",
    "с помощью функции train_test_split так, чтобы размер тестовой выборки\n",
    "составлял 20% от всех данных, при этом аргумент random_state должен быть равен 42.\n",
    "Масштабируйте данные с помощью StandardScaler.\n",
    "Постройте модель TSNE на тренировочный данных с параметрами:\n",
    "n_components=2, learning_rate=250, random_state=42.\n",
    "Постройте диаграмму рассеяния на этих данных."
   ]
  },
  {
   "cell_type": "markdown",
   "metadata": {},
   "source": [
    ">Импортируйте библиотеки pandas, numpy и matplotlib."
   ]
  },
  {
   "cell_type": "code",
   "execution_count": 47,
   "metadata": {
    "pycharm": {
     "name": "#%%\n"
    }
   },
   "outputs": [],
   "source": [
    "import pandas as pd\n",
    "import numpy as np\n",
    "import matplotlib.pyplot as plt\n",
    "%matplotlib inline"
   ]
  },
  {
   "cell_type": "markdown",
   "metadata": {},
   "source": [
    ">Загрузите \"Boston House Prices dataset\" из встроенных наборов данных библиотеки sklearn. Создайте датафреймы X и y из этих данных."
   ]
  },
  {
   "cell_type": "code",
   "execution_count": 48,
   "metadata": {},
   "outputs": [],
   "source": [
    "from sklearn.datasets import load_boston\n",
    "boston = load_boston()"
   ]
  },
  {
   "cell_type": "code",
   "execution_count": 49,
   "metadata": {},
   "outputs": [],
   "source": [
    "X = pd.DataFrame(boston['data'], columns=boston['feature_names'])\n",
    "y = pd.DataFrame(boston['target'], columns=['Price'])"
   ]
  },
  {
   "cell_type": "markdown",
   "metadata": {},
   "source": [
    ">Разбейте эти датафреймы на тренировочные (X_train, y_train) и тестовые (X_test, y_test) с помощью функции train_test_split так, чтобы размер тестовой выборки составлял 20% от всех данных, при этом аргумент random_state должен быть равен 42."
   ]
  },
  {
   "cell_type": "code",
   "execution_count": 50,
   "metadata": {},
   "outputs": [],
   "source": [
    "from sklearn.model_selection import train_test_split\n",
    "X_train, X_test, y_train, y_test = train_test_split(X, y, test_size=0.20, random_state=42)"
   ]
  },
  {
   "cell_type": "markdown",
   "metadata": {},
   "source": [
    ">Масштабируйте данные с помощью StandardScaler."
   ]
  },
  {
   "cell_type": "code",
   "execution_count": 51,
   "metadata": {},
   "outputs": [],
   "source": [
    "from sklearn.preprocessing import StandardScaler\n",
    "scaler=StandardScaler()"
   ]
  },
  {
   "cell_type": "code",
   "execution_count": 52,
   "metadata": {},
   "outputs": [],
   "source": [
    "X_train_scaled = scaler.fit_transform(X_train)\n",
    "X_test_scaled = scaler.transform(X_test)\n",
    "X_train_scaled = pd.DataFrame(X_train_scaled, columns=boston.feature_names)\n",
    "X_test_scaled = pd.DataFrame(X_test_scaled, columns=boston.feature_names)"
   ]
  },
  {
   "cell_type": "code",
   "execution_count": 53,
   "metadata": {},
   "outputs": [
    {
     "data": {
      "text/html": [
       "<div>\n",
       "<style scoped>\n",
       "    .dataframe tbody tr th:only-of-type {\n",
       "        vertical-align: middle;\n",
       "    }\n",
       "\n",
       "    .dataframe tbody tr th {\n",
       "        vertical-align: top;\n",
       "    }\n",
       "\n",
       "    .dataframe thead th {\n",
       "        text-align: right;\n",
       "    }\n",
       "</style>\n",
       "<table border=\"1\" class=\"dataframe\">\n",
       "  <thead>\n",
       "    <tr style=\"text-align: right;\">\n",
       "      <th></th>\n",
       "      <th>CRIM</th>\n",
       "      <th>ZN</th>\n",
       "      <th>INDUS</th>\n",
       "      <th>CHAS</th>\n",
       "      <th>NOX</th>\n",
       "      <th>RM</th>\n",
       "      <th>AGE</th>\n",
       "      <th>DIS</th>\n",
       "      <th>RAD</th>\n",
       "      <th>TAX</th>\n",
       "      <th>PTRATIO</th>\n",
       "      <th>B</th>\n",
       "      <th>LSTAT</th>\n",
       "    </tr>\n",
       "  </thead>\n",
       "  <tbody>\n",
       "    <tr>\n",
       "      <th>count</th>\n",
       "      <td>4.040000e+02</td>\n",
       "      <td>4.040000e+02</td>\n",
       "      <td>4.040000e+02</td>\n",
       "      <td>4.040000e+02</td>\n",
       "      <td>4.040000e+02</td>\n",
       "      <td>4.040000e+02</td>\n",
       "      <td>4.040000e+02</td>\n",
       "      <td>4.040000e+02</td>\n",
       "      <td>4.040000e+02</td>\n",
       "      <td>4.040000e+02</td>\n",
       "      <td>4.040000e+02</td>\n",
       "      <td>4.040000e+02</td>\n",
       "      <td>4.040000e+02</td>\n",
       "    </tr>\n",
       "    <tr>\n",
       "      <th>mean</th>\n",
       "      <td>-1.846708e-16</td>\n",
       "      <td>6.375538e-17</td>\n",
       "      <td>3.063556e-15</td>\n",
       "      <td>-5.056461e-17</td>\n",
       "      <td>-5.222445e-15</td>\n",
       "      <td>-4.018788e-15</td>\n",
       "      <td>-9.904069e-16</td>\n",
       "      <td>-3.396623e-16</td>\n",
       "      <td>-2.748077e-17</td>\n",
       "      <td>-1.516938e-16</td>\n",
       "      <td>1.999721e-14</td>\n",
       "      <td>5.737984e-15</td>\n",
       "      <td>-1.725792e-16</td>\n",
       "    </tr>\n",
       "    <tr>\n",
       "      <th>std</th>\n",
       "      <td>1.001240e+00</td>\n",
       "      <td>1.001240e+00</td>\n",
       "      <td>1.001240e+00</td>\n",
       "      <td>1.001240e+00</td>\n",
       "      <td>1.001240e+00</td>\n",
       "      <td>1.001240e+00</td>\n",
       "      <td>1.001240e+00</td>\n",
       "      <td>1.001240e+00</td>\n",
       "      <td>1.001240e+00</td>\n",
       "      <td>1.001240e+00</td>\n",
       "      <td>1.001240e+00</td>\n",
       "      <td>1.001240e+00</td>\n",
       "      <td>1.001240e+00</td>\n",
       "    </tr>\n",
       "    <tr>\n",
       "      <th>min</th>\n",
       "      <td>-4.061414e-01</td>\n",
       "      <td>-5.003201e-01</td>\n",
       "      <td>-1.487791e+00</td>\n",
       "      <td>-2.780887e-01</td>\n",
       "      <td>-1.458711e+00</td>\n",
       "      <td>-3.461733e+00</td>\n",
       "      <td>-2.348206e+00</td>\n",
       "      <td>-1.258391e+00</td>\n",
       "      <td>-9.740476e-01</td>\n",
       "      <td>-1.307684e+00</td>\n",
       "      <td>-2.568944e+00</td>\n",
       "      <td>-3.892249e+00</td>\n",
       "      <td>-1.510559e+00</td>\n",
       "    </tr>\n",
       "    <tr>\n",
       "      <th>25%</th>\n",
       "      <td>-3.979761e-01</td>\n",
       "      <td>-5.003201e-01</td>\n",
       "      <td>-8.502733e-01</td>\n",
       "      <td>-2.780887e-01</td>\n",
       "      <td>-8.887828e-01</td>\n",
       "      <td>-6.003488e-01</td>\n",
       "      <td>-8.228264e-01</td>\n",
       "      <td>-8.081981e-01</td>\n",
       "      <td>-6.243599e-01</td>\n",
       "      <td>-7.533563e-01</td>\n",
       "      <td>-6.821011e-01</td>\n",
       "      <td>2.098797e-01</td>\n",
       "      <td>-8.005057e-01</td>\n",
       "    </tr>\n",
       "    <tr>\n",
       "      <th>50%</th>\n",
       "      <td>-3.776748e-01</td>\n",
       "      <td>-5.003201e-01</td>\n",
       "      <td>-3.521669e-01</td>\n",
       "      <td>-2.780887e-01</td>\n",
       "      <td>-1.572334e-01</td>\n",
       "      <td>-1.494427e-01</td>\n",
       "      <td>3.270201e-01</td>\n",
       "      <td>-2.971196e-01</td>\n",
       "      <td>-5.077973e-01</td>\n",
       "      <td>-4.460660e-01</td>\n",
       "      <td>1.714705e-01</td>\n",
       "      <td>3.830012e-01</td>\n",
       "      <td>-2.157763e-01</td>\n",
       "    </tr>\n",
       "    <tr>\n",
       "      <th>75%</th>\n",
       "      <td>-4.582119e-02</td>\n",
       "      <td>3.645893e-01</td>\n",
       "      <td>1.033237e+00</td>\n",
       "      <td>-2.780887e-01</td>\n",
       "      <td>6.338607e-01</td>\n",
       "      <td>4.528240e-01</td>\n",
       "      <td>8.974727e-01</td>\n",
       "      <td>7.481981e-01</td>\n",
       "      <td>3.081406e-01</td>\n",
       "      <td>1.578434e+00</td>\n",
       "      <td>8.453428e-01</td>\n",
       "      <td>4.316600e-01</td>\n",
       "      <td>5.513070e-01</td>\n",
       "    </tr>\n",
       "    <tr>\n",
       "      <th>max</th>\n",
       "      <td>9.630689e+00</td>\n",
       "      <td>3.824227e+00</td>\n",
       "      <td>2.433163e+00</td>\n",
       "      <td>3.595975e+00</td>\n",
       "      <td>2.675394e+00</td>\n",
       "      <td>3.477564e+00</td>\n",
       "      <td>1.124581e+00</td>\n",
       "      <td>3.907900e+00</td>\n",
       "      <td>1.706891e+00</td>\n",
       "      <td>1.849573e+00</td>\n",
       "      <td>1.653990e+00</td>\n",
       "      <td>4.441800e-01</td>\n",
       "      <td>3.592534e+00</td>\n",
       "    </tr>\n",
       "  </tbody>\n",
       "</table>\n",
       "</div>"
      ],
      "text/plain": [
       "               CRIM            ZN         INDUS          CHAS           NOX  \\\n",
       "count  4.040000e+02  4.040000e+02  4.040000e+02  4.040000e+02  4.040000e+02   \n",
       "mean  -1.846708e-16  6.375538e-17  3.063556e-15 -5.056461e-17 -5.222445e-15   \n",
       "std    1.001240e+00  1.001240e+00  1.001240e+00  1.001240e+00  1.001240e+00   \n",
       "min   -4.061414e-01 -5.003201e-01 -1.487791e+00 -2.780887e-01 -1.458711e+00   \n",
       "25%   -3.979761e-01 -5.003201e-01 -8.502733e-01 -2.780887e-01 -8.887828e-01   \n",
       "50%   -3.776748e-01 -5.003201e-01 -3.521669e-01 -2.780887e-01 -1.572334e-01   \n",
       "75%   -4.582119e-02  3.645893e-01  1.033237e+00 -2.780887e-01  6.338607e-01   \n",
       "max    9.630689e+00  3.824227e+00  2.433163e+00  3.595975e+00  2.675394e+00   \n",
       "\n",
       "                 RM           AGE           DIS           RAD           TAX  \\\n",
       "count  4.040000e+02  4.040000e+02  4.040000e+02  4.040000e+02  4.040000e+02   \n",
       "mean  -4.018788e-15 -9.904069e-16 -3.396623e-16 -2.748077e-17 -1.516938e-16   \n",
       "std    1.001240e+00  1.001240e+00  1.001240e+00  1.001240e+00  1.001240e+00   \n",
       "min   -3.461733e+00 -2.348206e+00 -1.258391e+00 -9.740476e-01 -1.307684e+00   \n",
       "25%   -6.003488e-01 -8.228264e-01 -8.081981e-01 -6.243599e-01 -7.533563e-01   \n",
       "50%   -1.494427e-01  3.270201e-01 -2.971196e-01 -5.077973e-01 -4.460660e-01   \n",
       "75%    4.528240e-01  8.974727e-01  7.481981e-01  3.081406e-01  1.578434e+00   \n",
       "max    3.477564e+00  1.124581e+00  3.907900e+00  1.706891e+00  1.849573e+00   \n",
       "\n",
       "            PTRATIO             B         LSTAT  \n",
       "count  4.040000e+02  4.040000e+02  4.040000e+02  \n",
       "mean   1.999721e-14  5.737984e-15 -1.725792e-16  \n",
       "std    1.001240e+00  1.001240e+00  1.001240e+00  \n",
       "min   -2.568944e+00 -3.892249e+00 -1.510559e+00  \n",
       "25%   -6.821011e-01  2.098797e-01 -8.005057e-01  \n",
       "50%    1.714705e-01  3.830012e-01 -2.157763e-01  \n",
       "75%    8.453428e-01  4.316600e-01  5.513070e-01  \n",
       "max    1.653990e+00  4.441800e-01  3.592534e+00  "
      ]
     },
     "execution_count": 53,
     "metadata": {},
     "output_type": "execute_result"
    }
   ],
   "source": [
    "X_train_scaled.describe()\n"
   ]
  },
  {
   "cell_type": "markdown",
   "metadata": {},
   "source": [
    ">Постройте модель TSNE на тренировочный данных с параметрами: n_components=2, learning_rate=250, random_state=42."
   ]
  },
  {
   "cell_type": "code",
   "execution_count": 54,
   "metadata": {},
   "outputs": [],
   "source": [
    "from sklearn.manifold import TSNE\n",
    "tsne = TSNE(n_components=2, learning_rate=250, random_state=42)\n",
    "X_train_tsne=tsne.fit_transform(X_train_scaled)"
   ]
  },
  {
   "cell_type": "markdown",
   "metadata": {},
   "source": [
    ">Постройте диаграмму рассеяния на этих данных."
   ]
  },
  {
   "cell_type": "code",
   "execution_count": 55,
   "metadata": {},
   "outputs": [
    {
     "data": {
      "text/plain": [
       "<matplotlib.collections.PathCollection at 0x123032dd8>"
      ]
     },
     "execution_count": 55,
     "metadata": {},
     "output_type": "execute_result"
    },
    {
     "data": {
      "image/png": "[encoded data removed]",
      "text/plain": [
       "<Figure size 432x288 with 1 Axes>"
      ]
     },
     "metadata": {
      "needs_background": "light"
     },
     "output_type": "display_data"
    }
   ],
   "source": [
    "plt.scatter(X_train_tsne[:,0], X_train_tsne[:,1])"
   ]
  },
  {
   "cell_type": "markdown",
   "metadata": {},
   "source": [
    "**Вывод: по сжатым для 2D можно выделить 3 кластера**"
   ]
  },
  {
   "cell_type": "code",
   "execution_count": 56,
   "metadata": {},
   "outputs": [],
   "source": [
    "X_train.to_pickle('boston_X_train.pkl')\n",
    "X_test_scaled.to_pickle('boston_X_test_scaled.pkl')\n",
    "X_train_scaled.to_pickle('boston_X_train_scaled.pkl')\n",
    "pd.DataFrame(X_train_tsne).to_pickle('boston_X_train_tsne.pkl')\n",
    "y_train.to_pickle('boston_y_train.pkl')"
   ]
  },
  {
   "cell_type": "code",
   "execution_count": 57,
   "metadata": {},
   "outputs": [],
   "source": [
    "X_test.to_pickle('boston_X_test.pkl')\n",
    "y_test.to_pickle('boston_y_test.pkl')"
   ]
  },
  {
   "cell_type": "code",
   "execution_count": null,
   "metadata": {},
   "outputs": [],
   "source": []
  }
 ],
 "metadata": {
  "kernelspec": {
   "display_name": "Python 3",
   "language": "python",
   "name": "python3"
  },
  "language_info": {
   "codemirror_mode": {
    "name": "ipython",
    "version": 3
   },
   "file_extension": ".py",
   "mimetype": "text/x-python",
   "name": "python",
   "nbconvert_exporter": "python",
   "pygments_lexer": "ipython3",
   "version": "3.7.3"
  }
 },
 "nbformat": 4,
 "nbformat_minor": 1
}
