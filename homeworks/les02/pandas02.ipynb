{
 "cells": [
  {
   "cell_type": "markdown",
   "metadata": {
    "collapsed": true,
    "pycharm": {
     "name": "#%% md\n"
    }
   },
   "source": [
    "# Тема “Работа с данными в Pandas”\n",
    "## Задание 1\n",
    "\n",
    "Импортируйте библиотеку Pandas и дайте ей псевдоним pd. Создайте датафрейм authors со столбцами author_id и author_name, в которых соответственно содержатся данные:\n",
    "\n",
    "     [1, 2, 3] и ['Тургенев', 'Чехов', 'Островский']."
   ]
  },
  {
   "cell_type": "code",
   "execution_count": 12,
   "metadata": {
    "pycharm": {
     "name": "#%%\n"
    }
   },
   "outputs": [
    {
     "data": {
      "text/plain": "   author_id author_name\n0          1    Тургенев\n1          2       Чехов\n2          3  Островский",
      "text/html": "<div>\n<style scoped>\n    .dataframe tbody tr th:only-of-type {\n        vertical-align: middle;\n    }\n\n    .dataframe tbody tr th {\n        vertical-align: top;\n    }\n\n    .dataframe thead th {\n        text-align: right;\n    }\n</style>\n<table border=\"1\" class=\"dataframe\">\n  <thead>\n    <tr style=\"text-align: right;\">\n      <th></th>\n      <th>author_id</th>\n      <th>author_name</th>\n    </tr>\n  </thead>\n  <tbody>\n    <tr>\n      <th>0</th>\n      <td>1</td>\n      <td>Тургенев</td>\n    </tr>\n    <tr>\n      <th>1</th>\n      <td>2</td>\n      <td>Чехов</td>\n    </tr>\n    <tr>\n      <th>2</th>\n      <td>3</td>\n      <td>Островский</td>\n    </tr>\n  </tbody>\n</table>\n</div>"
     },
     "execution_count": 12,
     "metadata": {},
     "output_type": "execute_result"
    }
   ],
   "source": [
    "import pandas as pd\n",
    "\n",
    "authors = pd.DataFrame({'author_id': [1, 2, 3],\n",
    "                        'author_name': ['Тургенев', 'Чехов', 'Островский']})\n",
    "authors"
   ]
  },
  {
   "cell_type": "markdown",
   "metadata": {},
   "source": [
    "Затем создайте датафрейм book cо столбцами author_id, book_title и price, в которых соответственно содержатся данные:\n",
    "\n",
    "    [1, 1, 1, 2, 2, 3, 3],\n",
    "    ['Отцы и дети', 'Рудин', 'Дворянское гнездо', 'Толстый и тонкий', 'Дама с собачкой', 'Гроза', 'Таланты и поклонники'],\n",
    "    [450, 300, 350, 500, 450, 370, 290]."
   ]
  },
  {
   "cell_type": "code",
   "execution_count": 13,
   "metadata": {
    "pycharm": {
     "name": "#%%\n"
    }
   },
   "outputs": [
    {
     "data": {
      "text/plain": "   author_id            book_title  price\n0          1           Отцы и дети    450\n1          1                 Рудин    300\n2          1     Дворянское гнездо    350\n3          2      Толстый и тонкий    500\n4          2       Дама с собачкой    450\n5          3                 Гроза    370\n6          3  Таланты и поклонники    290",
      "text/html": "<div>\n<style scoped>\n    .dataframe tbody tr th:only-of-type {\n        vertical-align: middle;\n    }\n\n    .dataframe tbody tr th {\n        vertical-align: top;\n    }\n\n    .dataframe thead th {\n        text-align: right;\n    }\n</style>\n<table border=\"1\" class=\"dataframe\">\n  <thead>\n    <tr style=\"text-align: right;\">\n      <th></th>\n      <th>author_id</th>\n      <th>book_title</th>\n      <th>price</th>\n    </tr>\n  </thead>\n  <tbody>\n    <tr>\n      <th>0</th>\n      <td>1</td>\n      <td>Отцы и дети</td>\n      <td>450</td>\n    </tr>\n    <tr>\n      <th>1</th>\n      <td>1</td>\n      <td>Рудин</td>\n      <td>300</td>\n    </tr>\n    <tr>\n      <th>2</th>\n      <td>1</td>\n      <td>Дворянское гнездо</td>\n      <td>350</td>\n    </tr>\n    <tr>\n      <th>3</th>\n      <td>2</td>\n      <td>Толстый и тонкий</td>\n      <td>500</td>\n    </tr>\n    <tr>\n      <th>4</th>\n      <td>2</td>\n      <td>Дама с собачкой</td>\n      <td>450</td>\n    </tr>\n    <tr>\n      <th>5</th>\n      <td>3</td>\n      <td>Гроза</td>\n      <td>370</td>\n    </tr>\n    <tr>\n      <th>6</th>\n      <td>3</td>\n      <td>Таланты и поклонники</td>\n      <td>290</td>\n    </tr>\n  </tbody>\n</table>\n</div>"
     },
     "execution_count": 13,
     "metadata": {},
     "output_type": "execute_result"
    }
   ],
   "source": [
    "book = pd.DataFrame({'author_id': [1, 1, 1, 2, 2, 3, 3],\n",
    "                     'book_title': ['Отцы и дети', 'Рудин', 'Дворянское гнездо', 'Толстый и тонкий', 'Дама с собачкой', 'Гроза', 'Таланты и поклонники'],\n",
    "                     'price': [450, 300, 350, 500, 450, 370, 290]\n",
    "                     })\n",
    "book"
   ]
  },
  {
   "cell_type": "markdown",
   "metadata": {
    "pycharm": {
     "name": "#%% md\n"
    }
   },
   "source": [
    "## Задание 2\n",
    "Получите датафрейм authors_price, соединив датафреймы authors и books по полю author_id."
   ]
  },
  {
   "cell_type": "code",
   "execution_count": 14,
   "metadata": {
    "pycharm": {
     "name": "#%%\n"
    }
   },
   "outputs": [
    {
     "data": {
      "text/plain": "   author_id author_name            book_title  price\n0          1    Тургенев           Отцы и дети    450\n1          1    Тургенев                 Рудин    300\n2          1    Тургенев     Дворянское гнездо    350\n3          2       Чехов      Толстый и тонкий    500\n4          2       Чехов       Дама с собачкой    450\n5          3  Островский                 Гроза    370\n6          3  Островский  Таланты и поклонники    290",
      "text/html": "<div>\n<style scoped>\n    .dataframe tbody tr th:only-of-type {\n        vertical-align: middle;\n    }\n\n    .dataframe tbody tr th {\n        vertical-align: top;\n    }\n\n    .dataframe thead th {\n        text-align: right;\n    }\n</style>\n<table border=\"1\" class=\"dataframe\">\n  <thead>\n    <tr style=\"text-align: right;\">\n      <th></th>\n      <th>author_id</th>\n      <th>author_name</th>\n      <th>book_title</th>\n      <th>price</th>\n    </tr>\n  </thead>\n  <tbody>\n    <tr>\n      <th>0</th>\n      <td>1</td>\n      <td>Тургенев</td>\n      <td>Отцы и дети</td>\n      <td>450</td>\n    </tr>\n    <tr>\n      <th>1</th>\n      <td>1</td>\n      <td>Тургенев</td>\n      <td>Рудин</td>\n      <td>300</td>\n    </tr>\n    <tr>\n      <th>2</th>\n      <td>1</td>\n      <td>Тургенев</td>\n      <td>Дворянское гнездо</td>\n      <td>350</td>\n    </tr>\n    <tr>\n      <th>3</th>\n      <td>2</td>\n      <td>Чехов</td>\n      <td>Толстый и тонкий</td>\n      <td>500</td>\n    </tr>\n    <tr>\n      <th>4</th>\n      <td>2</td>\n      <td>Чехов</td>\n      <td>Дама с собачкой</td>\n      <td>450</td>\n    </tr>\n    <tr>\n      <th>5</th>\n      <td>3</td>\n      <td>Островский</td>\n      <td>Гроза</td>\n      <td>370</td>\n    </tr>\n    <tr>\n      <th>6</th>\n      <td>3</td>\n      <td>Островский</td>\n      <td>Таланты и поклонники</td>\n      <td>290</td>\n    </tr>\n  </tbody>\n</table>\n</div>"
     },
     "execution_count": 14,
     "metadata": {},
     "output_type": "execute_result"
    }
   ],
   "source": [
    "authors_price=pd.merge(authors, book, on='author_id', how='outer')\n",
    "authors_price"
   ]
  },
  {
   "cell_type": "markdown",
   "metadata": {},
   "source": [
    "## Задание 3\n",
    "Создайте датафрейм top5, в котором содержатся строки из authors_price с пятью самыми дорогими книгами."
   ]
  },
  {
   "cell_type": "code",
   "execution_count": 15,
   "metadata": {
    "pycharm": {
     "name": "#%%\n"
    }
   },
   "outputs": [
    {
     "data": {
      "text/plain": "   author_id author_name         book_title  price\n3          2       Чехов   Толстый и тонкий    500\n0          1    Тургенев        Отцы и дети    450\n4          2       Чехов    Дама с собачкой    450\n5          3  Островский              Гроза    370\n2          1    Тургенев  Дворянское гнездо    350",
      "text/html": "<div>\n<style scoped>\n    .dataframe tbody tr th:only-of-type {\n        vertical-align: middle;\n    }\n\n    .dataframe tbody tr th {\n        vertical-align: top;\n    }\n\n    .dataframe thead th {\n        text-align: right;\n    }\n</style>\n<table border=\"1\" class=\"dataframe\">\n  <thead>\n    <tr style=\"text-align: right;\">\n      <th></th>\n      <th>author_id</th>\n      <th>author_name</th>\n      <th>book_title</th>\n      <th>price</th>\n    </tr>\n  </thead>\n  <tbody>\n    <tr>\n      <th>3</th>\n      <td>2</td>\n      <td>Чехов</td>\n      <td>Толстый и тонкий</td>\n      <td>500</td>\n    </tr>\n    <tr>\n      <th>0</th>\n      <td>1</td>\n      <td>Тургенев</td>\n      <td>Отцы и дети</td>\n      <td>450</td>\n    </tr>\n    <tr>\n      <th>4</th>\n      <td>2</td>\n      <td>Чехов</td>\n      <td>Дама с собачкой</td>\n      <td>450</td>\n    </tr>\n    <tr>\n      <th>5</th>\n      <td>3</td>\n      <td>Островский</td>\n      <td>Гроза</td>\n      <td>370</td>\n    </tr>\n    <tr>\n      <th>2</th>\n      <td>1</td>\n      <td>Тургенев</td>\n      <td>Дворянское гнездо</td>\n      <td>350</td>\n    </tr>\n  </tbody>\n</table>\n</div>"
     },
     "execution_count": 15,
     "metadata": {},
     "output_type": "execute_result"
    }
   ],
   "source": [
    "top5 = authors_price.nlargest(5, 'price')\n",
    "top5"
   ]
  },
  {
   "cell_type": "markdown",
   "metadata": {},
   "source": [
    "## Задание 4\n",
    "Создайте датафрейм authors_stat на основе информации из authors_price. В датафрейме authors_stat должны быть четыре столбца:\n",
    "author_name, min_price, max_price и mean_price,\n",
    "в которых должны содержаться соответственно имя автора, минимальная, максимальная и средняя цена на книги этого автора."
   ]
  },
  {
   "cell_type": "code",
   "execution_count": 16,
   "metadata": {},
   "outputs": [
    {
     "data": {
      "text/plain": "   author_id author_name            book_title  price  min_price  max_price  \\\n0          1    Тургенев           Отцы и дети    450        450        450   \n1          1    Тургенев                 Рудин    300        300        300   \n2          1    Тургенев     Дворянское гнездо    350        350        350   \n3          2       Чехов      Толстый и тонкий    500        500        500   \n4          2       Чехов       Дама с собачкой    450        450        450   \n5          3  Островский                 Гроза    370        370        370   \n6          3  Островский  Таланты и поклонники    290        290        290   \n\n   mean_price  \n0         450  \n1         300  \n2         350  \n3         500  \n4         450  \n5         370  \n6         290  ",
      "text/html": "<div>\n<style scoped>\n    .dataframe tbody tr th:only-of-type {\n        vertical-align: middle;\n    }\n\n    .dataframe tbody tr th {\n        vertical-align: top;\n    }\n\n    .dataframe thead th {\n        text-align: right;\n    }\n</style>\n<table border=\"1\" class=\"dataframe\">\n  <thead>\n    <tr style=\"text-align: right;\">\n      <th></th>\n      <th>author_id</th>\n      <th>author_name</th>\n      <th>book_title</th>\n      <th>price</th>\n      <th>min_price</th>\n      <th>max_price</th>\n      <th>mean_price</th>\n    </tr>\n  </thead>\n  <tbody>\n    <tr>\n      <th>0</th>\n      <td>1</td>\n      <td>Тургенев</td>\n      <td>Отцы и дети</td>\n      <td>450</td>\n      <td>450</td>\n      <td>450</td>\n      <td>450</td>\n    </tr>\n    <tr>\n      <th>1</th>\n      <td>1</td>\n      <td>Тургенев</td>\n      <td>Рудин</td>\n      <td>300</td>\n      <td>300</td>\n      <td>300</td>\n      <td>300</td>\n    </tr>\n    <tr>\n      <th>2</th>\n      <td>1</td>\n      <td>Тургенев</td>\n      <td>Дворянское гнездо</td>\n      <td>350</td>\n      <td>350</td>\n      <td>350</td>\n      <td>350</td>\n    </tr>\n    <tr>\n      <th>3</th>\n      <td>2</td>\n      <td>Чехов</td>\n      <td>Толстый и тонкий</td>\n      <td>500</td>\n      <td>500</td>\n      <td>500</td>\n      <td>500</td>\n    </tr>\n    <tr>\n      <th>4</th>\n      <td>2</td>\n      <td>Чехов</td>\n      <td>Дама с собачкой</td>\n      <td>450</td>\n      <td>450</td>\n      <td>450</td>\n      <td>450</td>\n    </tr>\n    <tr>\n      <th>5</th>\n      <td>3</td>\n      <td>Островский</td>\n      <td>Гроза</td>\n      <td>370</td>\n      <td>370</td>\n      <td>370</td>\n      <td>370</td>\n    </tr>\n    <tr>\n      <th>6</th>\n      <td>3</td>\n      <td>Островский</td>\n      <td>Таланты и поклонники</td>\n      <td>290</td>\n      <td>290</td>\n      <td>290</td>\n      <td>290</td>\n    </tr>\n  </tbody>\n</table>\n</div>"
     },
     "execution_count": 16,
     "metadata": {},
     "output_type": "execute_result"
    }
   ],
   "source": [
    "authors_price['min_price'] = authors_price['price']\n",
    "authors_price['max_price'] = authors_price['price']\n",
    "authors_price['mean_price'] = authors_price['price']\n",
    "\n",
    "authors_price"
   ]
  },
  {
   "cell_type": "code",
   "execution_count": 17,
   "metadata": {
    "pycharm": {
     "name": "#%%\n"
    }
   },
   "outputs": [],
   "source": [
    "authors_stat = authors_price.groupby('author_name')\n"
   ]
  },
  {
   "cell_type": "code",
   "execution_count": 18,
   "outputs": [
    {
     "data": {
      "text/plain": "             min_price  max_price  mean_price\nauthor_name                                  \nОстровский         290        370  330.000000\nТургенев           300        450  366.666667\nЧехов              450        500  475.000000",
      "text/html": "<div>\n<style scoped>\n    .dataframe tbody tr th:only-of-type {\n        vertical-align: middle;\n    }\n\n    .dataframe tbody tr th {\n        vertical-align: top;\n    }\n\n    .dataframe thead th {\n        text-align: right;\n    }\n</style>\n<table border=\"1\" class=\"dataframe\">\n  <thead>\n    <tr style=\"text-align: right;\">\n      <th></th>\n      <th>min_price</th>\n      <th>max_price</th>\n      <th>mean_price</th>\n    </tr>\n    <tr>\n      <th>author_name</th>\n      <th></th>\n      <th></th>\n      <th></th>\n    </tr>\n  </thead>\n  <tbody>\n    <tr>\n      <th>Островский</th>\n      <td>290</td>\n      <td>370</td>\n      <td>330.000000</td>\n    </tr>\n    <tr>\n      <th>Тургенев</th>\n      <td>300</td>\n      <td>450</td>\n      <td>366.666667</td>\n    </tr>\n    <tr>\n      <th>Чехов</th>\n      <td>450</td>\n      <td>500</td>\n      <td>475.000000</td>\n    </tr>\n  </tbody>\n</table>\n</div>"
     },
     "execution_count": 18,
     "metadata": {},
     "output_type": "execute_result"
    }
   ],
   "source": [
    "\n",
    "authors_stat.agg({\"min_price\": \"min\", 'max_price': 'max', 'mean_price': 'mean'})\n"
   ],
   "metadata": {
    "collapsed": false,
    "pycharm": {
     "name": "#%%\n"
    }
   }
  },
  {
   "cell_type": "markdown",
   "source": [
    "## Задание 5**\n",
    "Создайте новый столбец в датафрейме authors_price под названием cover,\n",
    "в нем будут располагаться данные о том, какая обложка у данной книги - твердая или мягкая.\n",
    "В этот столбец поместите данные из следующего списка:\n",
    "\n",
    "    ['твердая', 'мягкая', 'мягкая', 'твердая', 'твердая', 'мягкая', 'мягкая'].\n"
   ],
   "metadata": {
    "collapsed": false
   }
  },
  {
   "cell_type": "code",
   "execution_count": 19,
   "outputs": [
    {
     "data": {
      "text/plain": "   author_id author_name            book_title  price    cover\n0          1    Тургенев           Отцы и дети    450  твердая\n1          1    Тургенев                 Рудин    300   мягкая\n2          1    Тургенев     Дворянское гнездо    350   мягкая\n3          2       Чехов      Толстый и тонкий    500  твердая\n4          2       Чехов       Дама с собачкой    450  твердая\n5          3  Островский                 Гроза    370   мягкая\n6          3  Островский  Таланты и поклонники    290   мягкая",
      "text/html": "<div>\n<style scoped>\n    .dataframe tbody tr th:only-of-type {\n        vertical-align: middle;\n    }\n\n    .dataframe tbody tr th {\n        vertical-align: top;\n    }\n\n    .dataframe thead th {\n        text-align: right;\n    }\n</style>\n<table border=\"1\" class=\"dataframe\">\n  <thead>\n    <tr style=\"text-align: right;\">\n      <th></th>\n      <th>author_id</th>\n      <th>author_name</th>\n      <th>book_title</th>\n      <th>price</th>\n      <th>cover</th>\n    </tr>\n  </thead>\n  <tbody>\n    <tr>\n      <th>0</th>\n      <td>1</td>\n      <td>Тургенев</td>\n      <td>Отцы и дети</td>\n      <td>450</td>\n      <td>твердая</td>\n    </tr>\n    <tr>\n      <th>1</th>\n      <td>1</td>\n      <td>Тургенев</td>\n      <td>Рудин</td>\n      <td>300</td>\n      <td>мягкая</td>\n    </tr>\n    <tr>\n      <th>2</th>\n      <td>1</td>\n      <td>Тургенев</td>\n      <td>Дворянское гнездо</td>\n      <td>350</td>\n      <td>мягкая</td>\n    </tr>\n    <tr>\n      <th>3</th>\n      <td>2</td>\n      <td>Чехов</td>\n      <td>Толстый и тонкий</td>\n      <td>500</td>\n      <td>твердая</td>\n    </tr>\n    <tr>\n      <th>4</th>\n      <td>2</td>\n      <td>Чехов</td>\n      <td>Дама с собачкой</td>\n      <td>450</td>\n      <td>твердая</td>\n    </tr>\n    <tr>\n      <th>5</th>\n      <td>3</td>\n      <td>Островский</td>\n      <td>Гроза</td>\n      <td>370</td>\n      <td>мягкая</td>\n    </tr>\n    <tr>\n      <th>6</th>\n      <td>3</td>\n      <td>Островский</td>\n      <td>Таланты и поклонники</td>\n      <td>290</td>\n      <td>мягкая</td>\n    </tr>\n  </tbody>\n</table>\n</div>"
     },
     "execution_count": 19,
     "metadata": {},
     "output_type": "execute_result"
    }
   ],
   "source": [
    "authors_price=authors_price.drop(['min_price','max_price','mean_price'], axis=1)\n",
    "authors_price['cover']=['твердая', 'мягкая', 'мягкая', 'твердая', 'твердая', 'мягкая', 'мягкая']\n",
    "authors_price"
   ],
   "metadata": {
    "collapsed": false,
    "pycharm": {
     "name": "#%%\n"
    }
   }
  },
  {
   "cell_type": "markdown",
   "source": [
    "Просмотрите документацию по функции pd. с помощью вопросительного знака."
   ],
   "metadata": {
    "collapsed": false,
    "pycharm": {
     "name": "#%% md\n"
    }
   }
  },
  {
   "cell_type": "code",
   "source": [
    "?pd.pivot_table"
   ],
   "metadata": {
    "collapsed": false,
    "pycharm": {
     "name": "#%%\n"
    }
   },
   "execution_count": 20,
   "outputs": []
  },
  {
   "cell_type": "markdown",
   "source": [
    "Для каждого автора посчитайте суммарную стоимость книг в твердой и мягкой обложке.\n",
    "Используйте для этого функцию pd.pivot_table.\n",
    "При этом столбцы должны называться \"твердая\" и \"мягкая\", а индексами должны быть фамилии авторов.\n",
    "Пропущенные значения стоимостей заполните нулями, при необходимости загрузите библиотеку Numpy."
   ],
   "metadata": {
    "collapsed": false
   }
  },
  {
   "cell_type": "markdown",
   "source": [
    "### 1 вариант - предварительный\n",
    "> группировка сначала по имени потом по обложке - далее суммирование"
   ],
   "metadata": {
    "collapsed": false
   }
  },
  {
   "cell_type": "code",
   "execution_count": 21,
   "outputs": [
    {
     "data": {
      "text/plain": "                     price\nauthor_name cover         \nОстровский  мягкая     660\nТургенев    мягкая     650\n            твердая    450\nЧехов       твердая    950",
      "text/html": "<div>\n<style scoped>\n    .dataframe tbody tr th:only-of-type {\n        vertical-align: middle;\n    }\n\n    .dataframe tbody tr th {\n        vertical-align: top;\n    }\n\n    .dataframe thead th {\n        text-align: right;\n    }\n</style>\n<table border=\"1\" class=\"dataframe\">\n  <thead>\n    <tr style=\"text-align: right;\">\n      <th></th>\n      <th></th>\n      <th>price</th>\n    </tr>\n    <tr>\n      <th>author_name</th>\n      <th>cover</th>\n      <th></th>\n    </tr>\n  </thead>\n  <tbody>\n    <tr>\n      <th>Островский</th>\n      <th>мягкая</th>\n      <td>660</td>\n    </tr>\n    <tr>\n      <th rowspan=\"2\" valign=\"top\">Тургенев</th>\n      <th>мягкая</th>\n      <td>650</td>\n    </tr>\n    <tr>\n      <th>твердая</th>\n      <td>450</td>\n    </tr>\n    <tr>\n      <th>Чехов</th>\n      <th>твердая</th>\n      <td>950</td>\n    </tr>\n  </tbody>\n</table>\n</div>"
     },
     "execution_count": 21,
     "metadata": {},
     "output_type": "execute_result"
    }
   ],
   "source": [
    "p=authors_price.groupby(['author_name', 'cover'])[['price']].sum()\n",
    "p"
   ],
   "metadata": {
    "collapsed": false,
    "pycharm": {
     "name": "#%%\n"
    }
   }
  },
  {
   "cell_type": "markdown",
   "source": [
    "### 2 вариант - развернутый\n",
    ">группируем по (group by) имени и обожке, выбираем (select) стоимость, применяем (apply) агрегацию по сумму,\n",
    "объединяем (combine) результирующие группы и преобразуем (unstack) иерархический индекс,\n",
    "чтобы раскрыть скрытую многомерность."
   ],
   "metadata": {
    "collapsed": false,
    "pycharm": {
     "name": "#%% md\n"
    }
   }
  },
  {
   "cell_type": "code",
   "execution_count": 24,
   "outputs": [
    {
     "data": {
      "text/plain": "cover        мягкая  твердая\nauthor_name                 \nОстровский    660.0      NaN\nТургенев      650.0    450.0\nЧехов           NaN    950.0",
      "text/html": "<div>\n<style scoped>\n    .dataframe tbody tr th:only-of-type {\n        vertical-align: middle;\n    }\n\n    .dataframe tbody tr th {\n        vertical-align: top;\n    }\n\n    .dataframe thead th {\n        text-align: right;\n    }\n</style>\n<table border=\"1\" class=\"dataframe\">\n  <thead>\n    <tr style=\"text-align: right;\">\n      <th>cover</th>\n      <th>мягкая</th>\n      <th>твердая</th>\n    </tr>\n    <tr>\n      <th>author_name</th>\n      <th></th>\n      <th></th>\n    </tr>\n  </thead>\n  <tbody>\n    <tr>\n      <th>Островский</th>\n      <td>660.0</td>\n      <td>NaN</td>\n    </tr>\n    <tr>\n      <th>Тургенев</th>\n      <td>650.0</td>\n      <td>450.0</td>\n    </tr>\n    <tr>\n      <th>Чехов</th>\n      <td>NaN</td>\n      <td>950.0</td>\n    </tr>\n  </tbody>\n</table>\n</div>"
     },
     "execution_count": 24,
     "metadata": {},
     "output_type": "execute_result"
    }
   ],
   "source": [
    "# authors_price.pivot_table( )\n",
    "authors_price.groupby(['author_name', 'cover'])['price'].aggregate('sum').unstack()"
   ],
   "metadata": {
    "collapsed": false,
    "pycharm": {
     "name": "#%%\n"
    }
   }
  },
  {
   "cell_type": "markdown",
   "source": [
    "### 3 вариант - pivot\n"
   ],
   "metadata": {
    "collapsed": false,
    "pycharm": {
     "name": "#%% md\n"
    }
   }
  },
  {
   "cell_type": "code",
   "execution_count": 46,
   "outputs": [
    {
     "data": {
      "text/plain": "cover        мягкая  твердая\nauthor_name                 \nОстровский    660.0      NaN\nТургенев      650.0    450.0\nЧехов           NaN    950.0",
      "text/html": "<div>\n<style scoped>\n    .dataframe tbody tr th:only-of-type {\n        vertical-align: middle;\n    }\n\n    .dataframe tbody tr th {\n        vertical-align: top;\n    }\n\n    .dataframe thead th {\n        text-align: right;\n    }\n</style>\n<table border=\"1\" class=\"dataframe\">\n  <thead>\n    <tr style=\"text-align: right;\">\n      <th>cover</th>\n      <th>мягкая</th>\n      <th>твердая</th>\n    </tr>\n    <tr>\n      <th>author_name</th>\n      <th></th>\n      <th></th>\n    </tr>\n  </thead>\n  <tbody>\n    <tr>\n      <th>Островский</th>\n      <td>660.0</td>\n      <td>NaN</td>\n    </tr>\n    <tr>\n      <th>Тургенев</th>\n      <td>650.0</td>\n      <td>450.0</td>\n    </tr>\n    <tr>\n      <th>Чехов</th>\n      <td>NaN</td>\n      <td>950.0</td>\n    </tr>\n  </tbody>\n</table>\n</div>"
     },
     "execution_count": 46,
     "metadata": {},
     "output_type": "execute_result"
    }
   ],
   "source": [
    "cover_stat=authors_price.pivot_table('price', index='author_name', columns='cover', aggfunc=sum )\n",
    "cover_stat\n",
    "# cover_stat.drop([4])"
   ],
   "metadata": {
    "collapsed": false,
    "pycharm": {
     "name": "#%%\n"
    }
   }
  },
  {
   "cell_type": "markdown",
   "source": [
    "Назовите полученный датасет book_info и сохраните его в формат pickle под названием \"book_info.pkl\".\n",
    "Затем загрузите из этого файла датафрейм и назовите его book_info2. Удостоверьтесь, что датафреймы book_info и book_info2 идентичны."
   ],
   "metadata": {
    "collapsed": false,
    "pycharm": {
     "name": "#%% md\n"
    }
   }
  },
  {
   "cell_type": "code",
   "execution_count": 22,
   "outputs": [],
   "source": [],
   "metadata": {
    "collapsed": false,
    "pycharm": {
     "name": "#%%\n"
    }
   }
  },
  {
   "cell_type": "code",
   "execution_count": 31,
   "metadata": {
    "pycharm": {
     "name": "#%%\n"
    }
   },
   "outputs": [
    {
     "data": {
      "text/html": [
       "<div>\n",
       "<style scoped>\n",
       "    .dataframe tbody tr th:only-of-type {\n",
       "        vertical-align: middle;\n",
       "    }\n",
       "\n",
       "    .dataframe tbody tr th {\n",
       "        vertical-align: top;\n",
       "    }\n",
       "\n",
       "    .dataframe thead th {\n",
       "        text-align: right;\n",
       "    }\n",
       "</style>\n",
       "<table border=\"1\" class=\"dataframe\">\n",
       "  <thead>\n",
       "    <tr style=\"text-align: right;\">\n",
       "      <th></th>\n",
       "      <th>min_price</th>\n",
       "      <th>max_price</th>\n",
       "      <th>mean_price</th>\n",
       "    </tr>\n",
       "    <tr>\n",
       "      <th>author_name</th>\n",
       "      <th></th>\n",
       "      <th></th>\n",
       "      <th></th>\n",
       "    </tr>\n",
       "  </thead>\n",
       "  <tbody>\n",
       "    <tr>\n",
       "      <th>Островский</th>\n",
       "      <td>290</td>\n",
       "      <td>370</td>\n",
       "      <td>330.000000</td>\n",
       "    </tr>\n",
       "    <tr>\n",
       "      <th>Тургенев</th>\n",
       "      <td>300</td>\n",
       "      <td>450</td>\n",
       "      <td>366.666667</td>\n",
       "    </tr>\n",
       "    <tr>\n",
       "      <th>Чехов</th>\n",
       "      <td>450</td>\n",
       "      <td>500</td>\n",
       "      <td>475.000000</td>\n",
       "    </tr>\n",
       "  </tbody>\n",
       "</table>\n",
       "</div>"
      ],
      "text/plain": [
       "             min_price  max_price  mean_price\n",
       "author_name                                  \n",
       "Островский         290        370  330.000000\n",
       "Тургенев           300        450  366.666667\n",
       "Чехов              450        500  475.000000"
      ]
     },
     "execution_count": 31,
     "metadata": {},
     "output_type": "execute_result"
    }
   ],
   "source": []
  },
  {
   "cell_type": "markdown",
   "metadata": {},
   "source": [
    "## Задание 5**\n",
    "Создайте новый столбец в датафрейме authors_price под названием cover, в нем будут располагаться данные о том, какая обложка у данной книги - твердая или мягкая. В этот столбец поместите данные из следующего списка:\n",
    "\n",
    "    ['твердая', 'мягкая', 'мягкая', 'твердая', 'твердая', 'мягкая', 'мягкая'].\n",
    "Просмотрите документацию по функции pd. с помощью вопросительного знака.Для каждого автора посчитайте суммарную стоимость книг в твердой и мягкой обложке. Используйте для этого функцию pd.pivot_table. При этом столбцы должны называться \"твердая\" и \"мягкая\", а индексами должны быть фамилии авторов. Пропущенные значения стоимостей заполните нулями, при необходимости загрузите библиотеку Numpy.\n",
    "Назовите полученный датасет book_info и сохраните его в формат pickle под названием \"book_info.pkl\". Затем загрузите из этого файла датафрейм и назовите его book_info2. Удостоверьтесь, что датафреймы book_info и book_info2 идентичны.\n",
    "\n"
   ]
  },
  {
   "cell_type": "code",
   "execution_count": 42,
   "metadata": {},
   "outputs": [
    {
     "data": {
      "text/html": [
       "<div>\n",
       "<style scoped>\n",
       "    .dataframe tbody tr th:only-of-type {\n",
       "        vertical-align: middle;\n",
       "    }\n",
       "\n",
       "    .dataframe tbody tr th {\n",
       "        vertical-align: top;\n",
       "    }\n",
       "\n",
       "    .dataframe thead th {\n",
       "        text-align: right;\n",
       "    }\n",
       "</style>\n",
       "<table border=\"1\" class=\"dataframe\">\n",
       "  <thead>\n",
       "    <tr style=\"text-align: right;\">\n",
       "      <th></th>\n",
       "      <th>author_id</th>\n",
       "      <th>author_name</th>\n",
       "      <th>book_title</th>\n",
       "      <th>price</th>\n",
       "      <th>cover</th>\n",
       "    </tr>\n",
       "  </thead>\n",
       "  <tbody>\n",
       "    <tr>\n",
       "      <th>0</th>\n",
       "      <td>1</td>\n",
       "      <td>Тургенев</td>\n",
       "      <td>Отцы и дети</td>\n",
       "      <td>450</td>\n",
       "      <td>твердая</td>\n",
       "    </tr>\n",
       "    <tr>\n",
       "      <th>1</th>\n",
       "      <td>1</td>\n",
       "      <td>Тургенев</td>\n",
       "      <td>Рудин</td>\n",
       "      <td>300</td>\n",
       "      <td>мягкая</td>\n",
       "    </tr>\n",
       "    <tr>\n",
       "      <th>2</th>\n",
       "      <td>1</td>\n",
       "      <td>Тургенев</td>\n",
       "      <td>Дворянское гнездо</td>\n",
       "      <td>350</td>\n",
       "      <td>мягкая</td>\n",
       "    </tr>\n",
       "    <tr>\n",
       "      <th>3</th>\n",
       "      <td>2</td>\n",
       "      <td>Чехов</td>\n",
       "      <td>Толстый и тонкий</td>\n",
       "      <td>500</td>\n",
       "      <td>твердая</td>\n",
       "    </tr>\n",
       "    <tr>\n",
       "      <th>4</th>\n",
       "      <td>2</td>\n",
       "      <td>Чехов</td>\n",
       "      <td>Дама с собачкой</td>\n",
       "      <td>450</td>\n",
       "      <td>твердая</td>\n",
       "    </tr>\n",
       "    <tr>\n",
       "      <th>5</th>\n",
       "      <td>3</td>\n",
       "      <td>Островский</td>\n",
       "      <td>Гроза</td>\n",
       "      <td>370</td>\n",
       "      <td>мягкая</td>\n",
       "    </tr>\n",
       "    <tr>\n",
       "      <th>6</th>\n",
       "      <td>3</td>\n",
       "      <td>Островский</td>\n",
       "      <td>Таланты и поклонники</td>\n",
       "      <td>290</td>\n",
       "      <td>мягкая</td>\n",
       "    </tr>\n",
       "  </tbody>\n",
       "</table>\n",
       "</div>"
      ],
      "text/plain": [
       "   author_id author_name            book_title  price    cover\n",
       "0          1    Тургенев           Отцы и дети    450  твердая\n",
       "1          1    Тургенев                 Рудин    300   мягкая\n",
       "2          1    Тургенев     Дворянское гнездо    350   мягкая\n",
       "3          2       Чехов      Толстый и тонкий    500  твердая\n",
       "4          2       Чехов       Дама с собачкой    450  твердая\n",
       "5          3  Островский                 Гроза    370   мягкая\n",
       "6          3  Островский  Таланты и поклонники    290   мягкая"
      ]
     },
     "execution_count": 42,
     "metadata": {},
     "output_type": "execute_result"
    }
   ],
   "source": [
    "authors_price=authors_price.drop(['min_price','max_price','mean_price'], axis=1)\n",
    "authors_price['cover']=['твердая', 'мягкая', 'мягкая', 'твердая', 'твердая', 'мягкая', 'мягкая']\n",
    "authors_price"
   ]
  },
  {
   "cell_type": "code",
   "execution_count": null,
   "metadata": {},
   "outputs": [],
   "source": []
  }
 ],
 "metadata": {
  "kernelspec": {
   "display_name": "Python 3",
   "language": "python",
   "name": "python3"
  },
  "language_info": {
   "codemirror_mode": {
    "name": "ipython",
    "version": 3
   },
   "file_extension": ".py",
   "mimetype": "text/x-python",
   "name": "python",
   "nbconvert_exporter": "python",
   "pygments_lexer": "ipython3",
   "version": "3.8.5"
  }
 },
 "nbformat": 4,
 "nbformat_minor": 1
}